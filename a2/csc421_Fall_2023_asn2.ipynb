{
 "cells": [
  {
   "cell_type": "markdown",
   "metadata": {},
   "source": [
    "# CSC421 Fall 2023 Assignment 2 \n",
    "### Author: George Tzanetakis \n",
    "\n",
    "This notebook is based on the supporting material for topics covered in **Chapter 7 - Logical Agents** and **Chapter 8 - First-Order Logic** from the book *Artificial Intelligence: A Modern Approach.* You can consult and modify the textbook code provided in logic.py and logic.ipynb for completing the assignment questions. The first 5 questions do NOT rely on the provided aima code so you can complete them just using basic Python. Questions 6 and 7 do require the use of the aima-code repository. \n",
    "\n",
    "You are welcome and actually it can be educational to look at the code at the aima-code repository as well as other code resources you can find on the web. However, make sure you understand any code that you incoporate. \n",
    "\n",
    "Each question is worth 1% of the total grade. The advanced questions require significantly more \n",
    "effort than the basic and expected questions. The assignment structure is as follows: \n",
    "\n",
    "1. Propositional Logic (Basic) - simple infix evaluator for 0, 1 and logical operators \n",
    "2. Propositional Logic (Basic) - adding variables and bindings to evaluator \n",
    "3. Propositional Logic (Expected) - recursive infix evaluator for propositional logic \n",
    "4. Propositional Logic (Expected) - usage of evaluator to evaluate some example logic expressions\n",
    "5. Propositional Logic (Advanced) - model checking for the prefix evaluator \n",
    "6. Propositional Logic(Basic) - simple KB using aima code with model checking and theorem proving \n",
    "7. First-Order Logic (Basic) - kinship domain using FolKB for the Simpsons \n",
    "8. First-Order Logic (Expected) - kinship domain using Prolog for the Simpsons\n",
    "9. First-Order Logic (Expected) - LegoWorld \n",
    "10. First-Order Logic (Advanced) - NLP for LegoWorld or webscraping a KB for music  \n",
    "\n",
    "```\n",
    "Birds can fly, unless they are penguins and ostriches, or if they happen \n",
    "to be dead, or have broken wings, or are confined to cages, or have their \n",
    "feet stuck in cement, or have undergone experiences so dreadful as to render \n",
    "them psychologically incapable of flight \n",
    "\n",
    "Marvin Minsky \n",
    "```"
   ]
  },
  {
   "cell_type": "markdown",
   "metadata": {},
   "source": [
    "# Introduction - Parsing and evaluating prefix logic expressions  \n",
    "\n",
    "In this assignment your task is to incrementally create a parser and evaluator for prefix logic expressions as well as implement simple model checking. \n"
   ]
  },
  {
   "cell_type": "markdown",
   "metadata": {
    "jp-MarkdownHeadingCollapsed": true,
    "tags": []
   },
   "source": [
    "# Question 1 (Basic) \n",
    "\n",
    "Your first task will be to write a simple evaluator of prefix logic expressions with constants. In prefix notation the operator precedes the operands and no operands are required. For example 5+3 in prefix notation is written + 5 3 or 5 * 2 + 3 would be written + * 5 2 3 or + * 5 2 * 3 4 is equivalent to (5 * 2) + (3 * 4). "
   ]
  },
  {
   "cell_type": "markdown",
   "metadata": {},
   "source": [
    "As a first step we will consider very simple expressions with one operator and two constant operands. We will use 0 for false and 1 for true. The following logical connectives should be implemented (see Figure 7.8 in your book) (notice that for now there is no negation symbol ~): \n",
    "\n",
    "1. &    (and), \n",
    "3. |    (or), \n",
    "4. =>   (implication) \n",
    "5. <=>  (biconditional) \n",
    "\n",
    "Example expressions: \n",
    "```\n",
    "& 1 0  \n",
    "=> 0 1 \n",
    "<=> 1 1 \n",
    "```\n",
    "\n",
    "Your function should take as input a string with the prefix expression and return the result of evaluating the expression (basically a 1 for true and 0 for false). You can split a string to a list using .split[' ']. For this part of the assignment you only evaluate expressions with two constant operands i.e no nested/recursive expressions. "
   ]
  },
  {
   "cell_type": "code",
   "execution_count": 2,
   "metadata": {},
   "outputs": [
    {
     "name": "stdout",
     "output_type": "stream",
     "text": [
      "['&', '1', '0']\n",
      "True\n"
     ]
    }
   ],
   "source": [
    "a = '& 1 0'\n",
    "print(a.split(' '))\n",
    "\n",
    "print(bool(\"0\"))"
   ]
  },
  {
   "cell_type": "code",
   "execution_count": 3,
   "metadata": {},
   "outputs": [
    {
     "name": "stdout",
     "output_type": "stream",
     "text": [
      "False\n",
      "False\n",
      "False\n",
      "True\n",
      "\n",
      "\n",
      "True\n",
      "False\n",
      "False\n",
      "True\n",
      "\n",
      "\n",
      "True\n",
      "False\n",
      "True\n",
      "True\n"
     ]
    }
   ],
   "source": [
    "# YOUR CODE GOES HERE \n",
    "def booled(num):\n",
    "    if num == '1' or num ==1:\n",
    "        return True\n",
    "    elif num == '0' or num == 0:\n",
    "        return False\n",
    "\n",
    "def prefix_solver(expr):\n",
    "    l = expr.split()\n",
    "    \n",
    "    if l[0] == '&':\n",
    "        return booled(l[1]) and booled(l[2])\n",
    "    \n",
    "    elif l[0] == '=>':\n",
    "        return not booled(l[1]) or booled(l[2])\n",
    "    \n",
    "    elif l[0] == '<=>':\n",
    "        return ((not booled(l[1])) or booled(l[2])) and ((not booled(l[2])) or booled(l[1]))\n",
    "    \n",
    "    \n",
    "print(prefix_solver(\"& 0 0\"))\n",
    "print(prefix_solver(\"& 1 0\"))\n",
    "print(prefix_solver(\"& 0 1\"))\n",
    "print(prefix_solver(\"& 1 1\"))\n",
    "print(\"\\n\")\n",
    "print(prefix_solver(\"<=> 0 0\"))\n",
    "print(prefix_solver(\"<=> 1 0\"))\n",
    "print(prefix_solver(\"<=> 0 1\"))\n",
    "print(prefix_solver(\"<=> 1 1\"))\n",
    "print(\"\\n\")\n",
    "print(prefix_solver(\"=> 0 0\"))\n",
    "print(prefix_solver(\"=> 1 0\"))\n",
    "print(prefix_solver(\"=> 0 1\"))\n",
    "print(prefix_solver(\"=> 1 1\"))\n",
    "        \n"
   ]
  },
  {
   "cell_type": "markdown",
   "metadata": {
    "jp-MarkdownHeadingCollapsed": true,
    "tags": []
   },
   "source": [
    "# Question 2 (Basic)\n",
    "\n",
    "Your next task is to implement variables and bindings for your propositional logic evaluator. In this version in addition to constants (0 and 1) you also can have variables which are strings with associated values provided in a dictionary. You still only consider two operands and one operator (no nesting). For example in the code below \n",
    "the three expressions are equivalent. Your function should take as arguments the expression to be evaluated as a string and the dictionary with the variable bindings. In addition you need to add the ~ (not) operator. To do so for each variable in the dictionary add a not version. For example if 'a' in the dictionary has a value of 1 the '~a' in the dictionary should have a value of 0. Notice that the not symbol is part of the string and it is NOT separated by a space. \n",
    "\n"
   ]
  },
  {
   "cell_type": "code",
   "execution_count": 4,
   "metadata": {},
   "outputs": [
    {
     "name": "stdout",
     "output_type": "stream",
     "text": [
      "{'foo': 0, 'b': 1}\n"
     ]
    }
   ],
   "source": [
    "d = {'foo': 0, 'b': 1}\n",
    "print(d)\n",
    "expr1 = '& 0 1'\n",
    "expr2 = '& foo 1'\n",
    "expr3 = '& foo ~b'\n",
    "\n"
   ]
  },
  {
   "cell_type": "code",
   "execution_count": 5,
   "metadata": {
    "scrolled": true
   },
   "outputs": [
    {
     "name": "stdout",
     "output_type": "stream",
     "text": [
      "False\n",
      "False\n",
      "False\n",
      "True\n",
      "False\n",
      "False\n"
     ]
    }
   ],
   "source": [
    "# YOUR CODE GOES HERE \n",
    "\n",
    "\n",
    "def booled(num, variables):\n",
    "    #change variables to their values\n",
    "    if num in variables:\n",
    "        num = variables[num]\n",
    "\n",
    "    if num == '1' or num == 1:\n",
    "        return True\n",
    "    elif num == '0' or num == 0:\n",
    "        return False\n",
    "\n",
    "    \n",
    "    \n",
    "def prefix_solver(expr, variables):\n",
    "    l = expr.split()\n",
    "    \n",
    "    for i in range(0, len(l)):\n",
    "        #check if the symbol is an operand, and if so change it to True or False\n",
    "        if l[i] not in ['&', '=>', '<=>', '~']:\n",
    "            if l[i][0] == '~' and len(l[i]) > 1:\n",
    "                l[i] = not booled(l[i][1:], variables)\n",
    "            else:\n",
    "                l[i] = booled(l[i], variables)\n",
    " \n",
    "    \n",
    "    #solve expression\n",
    "    if l[0] == '&':\n",
    "        return l[1] and l[2]\n",
    "    \n",
    "    elif l[0] == '=>':\n",
    "        return (not l[1]) or l[2]\n",
    "    \n",
    "    elif l[0] == '<=>':\n",
    "        return ((not l[1]) or l[2]) and ((not l[2]) or l[1])\n",
    "    \n",
    "    elif l[0] == '~':\n",
    "        return not l[1]\n",
    "    \n",
    "    else:\n",
    "        return l[0]\n",
    "    \n",
    "    \n",
    "d = {'foo': 0, 'b': 1}\n",
    "print(prefix_solver(expr1, d))\n",
    "print(prefix_solver(expr2, d))\n",
    "print(prefix_solver(expr3, d))\n",
    "\n",
    "print(prefix_solver(\"=> 1 b\", d))\n",
    "\n",
    "#I've designed the code to take '~' as either an operator (with a space before the operand)\n",
    "#or as the first character of the operand\n",
    "print(prefix_solver(\"~b\", d))\n",
    "print(prefix_solver(\"~ b\", d))"
   ]
  },
  {
   "cell_type": "markdown",
   "metadata": {
    "jp-MarkdownHeadingCollapsed": true,
    "tags": []
   },
   "source": [
    "# Question 3 (Expected) \n",
    "\n",
    "\n",
    "The following code is a recursive evaluator for prefix arithmetic expressions. It assumes that there are always two operands either an integer or a prefix expression starting with an operator (addition or multiplication). It is a good idea to go through this function carefully by hand to understand how the recursion works. \n",
    "\n",
    "Informed by your understanding of the arithmetic recursive_eval function your task is to write function to implement a recursive prefix logic evaluator. Your evaluator should also support variables bindings using a dictionary as in the previous question. \n",
    "\n",
    "Example expressions: \n",
    "```\n",
    "& 1 & 1 a   \n",
    "=> 0 & b ~alice  \n",
    "<=> foo 1 \n",
    "```"
   ]
  },
  {
   "cell_type": "code",
   "execution_count": 6,
   "metadata": {},
   "outputs": [
    {
     "name": "stdout",
     "output_type": "stream",
     "text": [
      "1\n",
      "3\n",
      "7\n",
      "28\n"
     ]
    }
   ],
   "source": [
    "def recursive_eval(l):\n",
    "    head, tail = l[0], l[1:]\n",
    "    if head in ['+', '*']: \n",
    "        val1, tail = recursive_eval(tail)\n",
    "        val2, tail = recursive_eval(tail)\n",
    "        if head == '+': \n",
    "            return (int(val1)+int(val2), tail)\n",
    "        elif head == '*':  \n",
    "            return (int(val1)*int(val2), tail)\n",
    "    # operator is a number \n",
    "    else:  \n",
    "        return (int(head),tail)\n",
    "\n",
    "def prefix_eval(input_str): \n",
    "    input_list = input_str.split(' ')\n",
    "    res, tail = recursive_eval(input_list)\n",
    "    return res\n",
    "\n",
    "print(prefix_eval('1'))\n",
    "print(prefix_eval('+ 1 2'))\n",
    "print(prefix_eval('+ 1 * 2 3'))\n",
    "print(prefix_eval('+ * 5 2 * 3 + 1 5'))"
   ]
  },
  {
   "cell_type": "code",
   "execution_count": 7,
   "metadata": {
    "scrolled": true
   },
   "outputs": [
    {
     "name": "stdout",
     "output_type": "stream",
     "text": [
      "True\n",
      "False\n",
      "True\n"
     ]
    }
   ],
   "source": [
    "# YOUR CODE GOES HERE \n",
    "\n",
    "def booled(num, variables):\n",
    "    #change variables to their values\n",
    "    if num in variables:\n",
    "        num = variables[num]\n",
    "\n",
    "    if num == '1' or num == 1:\n",
    "        return True\n",
    "    elif num == '0' or num == 0:\n",
    "        return False\n",
    "    \n",
    "    \n",
    "    \n",
    "def recursive_eval(l):\n",
    "    head, tail = l[0], l[1:]\n",
    "    if head in ['&', '=>', '<=>']: \n",
    "        val1, tail = recursive_eval(tail)\n",
    "        val2, tail = recursive_eval(tail)\n",
    "        if head == '&':\n",
    "            return (val1 and val2), tail\n",
    "        elif head == '=>':\n",
    "            return ((not val1) or val2) , tail\n",
    "        elif head == '<=>':\n",
    "            return (((not val1) or val2) and ((not val2) or val1)), tail\n",
    "        elif head == '<=>':\n",
    "            return (((not val1) or val2) and ((not val2) or val1)), tail\n",
    "        elif head == '~':\n",
    "            return \n",
    "    #if operator is NOT, it only has one operand, so do a single recursive call and return the opposite of it\n",
    "    elif head == '~':\n",
    "        val1, tail = recursive_eval(tail)\n",
    "        return (not val1), tail\n",
    "        \n",
    "    # operator is a number \n",
    "    else:  \n",
    "        return (head,tail)\n",
    "\n",
    "    \n",
    "    \n",
    "\n",
    "def prefix_eval(input_str, variables): \n",
    "    input_list = input_str.split(' ')\n",
    "    \n",
    "    #for each symbol in the expression\n",
    "    for i in range(0, len(input_list)):\n",
    "        #check if the symbol is an operand, and if so change it to True or False\n",
    "        if input_list[i] not in ['&', '=>', '<=>', '~']:\n",
    "            if input_list[i][0] == '~' and len(input_list[i]) > 1:\n",
    "                input_list[i] = not booled(input_list[i][1:], variables)\n",
    "            else:\n",
    "                input_list[i] = booled(input_list[i], variables)\n",
    "\n",
    "    #call recursive solver\n",
    "    res, tail = recursive_eval(input_list)\n",
    "    return res\n",
    "\n",
    "\n",
    "d = {'foo': 0, 'b': 1}\n",
    "print(prefix_eval(\"=> & 1 b 1\", d))\n",
    "print(prefix_eval(\"<=> & 1 b 0\", d))\n",
    "print(prefix_eval(\"=> 1 ~ & b foo\", d))"
   ]
  },
  {
   "cell_type": "markdown",
   "metadata": {
    "jp-MarkdownHeadingCollapsed": true,
    "tags": []
   },
   "source": [
    "# QUESTION 4 (EXPECTED) "
   ]
  },
  {
   "cell_type": "markdown",
   "metadata": {},
   "source": [
    "\n",
    "Using the recursive prefix evaluator you defined in the previous question \n",
    "answer the following question (you will need to convert the exressions below \n",
    "to prefix). You can use multiple string assignments to assemble more complicated \n",
    "sentences into one big string: \n",
    "\n",
    "\n",
    "Let A be the formula: \n",
    "\n",
    "\\begin{equation} \n",
    "  (( p_{1} \\rightarrow (p2 \\land p_{3})) \\land ((\\neg p_{1})\n",
    "  \\rightarrow (p_{3} \\land p_{4})))\n",
    "\\end{equation} \n",
    "\n",
    "Let B be the formula: \n",
    "\n",
    "\\begin{equation} \n",
    "  (( p_{3} \\rightarrow (\\neg p_{6})) \\land ((\\neg\n",
    "  p_{3}) \\rightarrow (p_{4} \\rightarrow p_{1})))  \n",
    "\\end{equation} \n",
    "\n",
    "Let C be the formula: \n",
    "\n",
    "\\begin{equation} \n",
    "  ((\\neg(p2 \\land p_{5})) \\land (p2 \\rightarrow p_{5})) \n",
    "\\end{equation} \n",
    "\n",
    "Let D be the formula: \n",
    "\n",
    "\\begin{equation} \n",
    "  (\\neg (p_{3} \\rightarrow p_{6}))\n",
    "\\end{equation} \n",
    "\n",
    "Evaluate the formulate E: \n",
    "\\begin{equation} \n",
    "  (( A \\land (B \\land C)) \\rightarrow D)\n",
    "\\end{equation} \n",
    "\n",
    "under the true assignment $I_{1}$, where $I_{1}(p_{1}) = I_{1}(p_{3}) = I_{1}(p_{5}) = false$ \n",
    "and $I_{1}(p2) = I_{1}(p_{4}) = I_{1}(p_{6}) = true$ as well as under the truth assignment \n",
    "$I_{2}$, where $I_{2}(p_{1}) = I_{2}(p_{3}) = I_{2}(p_{5}) = true$ and\n",
    "$I_{2}(p_{2})=I_{2}(p_{4})=I_{2}(p_{6}) = false$. \n"
   ]
  },
  {
   "cell_type": "code",
   "execution_count": 8,
   "metadata": {},
   "outputs": [
    {
     "name": "stdout",
     "output_type": "stream",
     "text": [
      "Under I1:\n",
      "A: False\n",
      "B: False\n",
      "C: False\n",
      "D: False\n",
      "E: True\n",
      "\n",
      "Under I2:\n",
      "A: False\n",
      "B: True\n",
      "C: True\n",
      "D: True\n",
      "E: True\n"
     ]
    }
   ],
   "source": [
    "## YOUR CODDE GOES HERE \n",
    "I1 = {'p1': 0, 'p2': 1, 'p3': 0, 'p4': 1, 'p5': 0, 'p6': 1}\n",
    "I2 = {'p1': 1, 'p2': 0, 'p3': 1, 'p4': 0, 'p5': 1, 'p6': 0}\n",
    "\n",
    "A = '& => p1 & p2 p3 => ~p1 & p3 p4'\n",
    "\n",
    "B = '& => p3 ~p6 => ~p1 => p4 p1'\n",
    "\n",
    "C = '& ~ & p2 p5 => p2 p5'\n",
    "\n",
    "D = '~ => p3 p6'\n",
    "\n",
    "E = '=> & {} & {} {} {}'.format(A, B, C, D)\n",
    "\n",
    "print(\"Under I1:\")\n",
    "print(\"A:\", prefix_eval(A, I1))\n",
    "print(\"B:\", prefix_eval(B, I1))\n",
    "print(\"C:\", prefix_eval(C, I1))\n",
    "print(\"D:\", prefix_eval(D, I1))\n",
    "print(\"E:\", prefix_eval(E, I1))\n",
    "\n",
    "\n",
    "print(\"\\nUnder I2:\")\n",
    "print(\"A:\", prefix_eval(A, I2))\n",
    "print(\"B:\", prefix_eval(B, I2))\n",
    "print(\"C:\", prefix_eval(C, I2))\n",
    "print(\"D:\", prefix_eval(D, I2))\n",
    "print(\"E:\", prefix_eval(E, I2))\n",
    "\n"
   ]
  },
  {
   "cell_type": "markdown",
   "metadata": {
    "jp-MarkdownHeadingCollapsed": true,
    "tags": []
   },
   "source": [
    "# QUESTION 5 (ADVANCED)\n",
    "\n",
    "Implement inference using model-checking using your prefix recursive evaluator to decide whether a knowledge base KB entais some sentence a. To do so express the knowledge base in the prefix notation, enumerate all models for the variables in the dictionary, and check that the sentence a is true in every model in which the KB is true. \n",
    "\n",
    "You can check the implementation to tt_entails in logic.ipynb in the aima_python repository to inform how you implement your solution. Your solution should NOT rely directly on any code in logic.py or logic.ipynb. \n",
    "\n",
    "Check you model checking by showing whether A & (B | C) & D & E & (~F & ~G) entails A & D & E & ~F & ~G. \n",
    "You will need to convert this example to prefix notation. It is also a good idea to check a \n",
    "few simple cases to confirm that your approach works. \n"
   ]
  },
  {
   "cell_type": "code",
   "execution_count": 9,
   "metadata": {},
   "outputs": [],
   "source": [
    "# YOUR CODE GOES HERE \n"
   ]
  },
  {
   "cell_type": "markdown",
   "metadata": {
    "jp-MarkdownHeadingCollapsed": true,
    "tags": []
   },
   "source": [
    "# Extra ideas (no credit) \n",
    "\n",
    "* Implement conversion of the prefix expressions to prefix conjuctive normal form (CNF) based on the recursive evaluator you have implemented. \n",
    "* Based on the recursive evaluator you have implemented do a conversion of expressions in prefix notation to the infix notation of expressions supported by logic.ipynb. Provide 4 test cases that demonstrate the the conversion works by confirming that the result of your evaluator and the logic.ipynb evaluator are the same. \n",
    "\n"
   ]
  },
  {
   "cell_type": "markdown",
   "metadata": {
    "jp-MarkdownHeadingCollapsed": true,
    "tags": []
   },
   "source": [
    "# Question 6 (Basic) \n",
    "\n",
    "Consider the following propositional logic knowledge base.\n",
    "\n",
    "It is not sunny this afternoon and it is colder than yesterday.\n",
    "We will go swimming only if it is sunny.\n",
    "If we do not go swimming then we will take a canoe trip.\n",
    "If we take a canoe trip, then we will be home by sunset.\n",
    "Denote:\n",
    "\n",
    "* p = It is sunny this afternoon\n",
    "* q = it is colder than yesterday\n",
    "* r = We will go swimming\n",
    "* s= we will take a canoe trip\n",
    "* t= We will be home by sunset\n",
    "\n",
    "Express this knowledge base using propositional logic using the expression syntax used in logic.ipynb. You can incoprorate any code you need from logic.ipynb and logic.py. Using both model checking and theorem proving inference (you can use the implementations providedin logic.py) show that this knowledge base entails the sentence if it is not sunny this afternoon then we will be home by sunset. "
   ]
  },
  {
   "cell_type": "code",
   "execution_count": 1,
   "metadata": {},
   "outputs": [
    {
     "data": {
      "text/plain": [
       "True"
      ]
     },
     "execution_count": 1,
     "metadata": {},
     "output_type": "execute_result"
    }
   ],
   "source": [
    "# YOUR CODE GOES HERE \n",
    "\n",
    "from utils import *\n",
    "from logic import *\n",
    "\n",
    "#~p\n",
    "#q\n",
    "# r => p\n",
    "#~r => s\n",
    "# s => t\n",
    "\n",
    "P, Q, R, S, T = expr('P, Q, R, S, T')\n",
    "\n",
    "afternoon_kb = PropKB()\n",
    "\n",
    "afternoon_kb.tell(~P)\n",
    "\n",
    "afternoon_kb.tell(Q)\n",
    "\n",
    "afternoon_kb.tell(R | '==>' | P)\n",
    "\n",
    "afternoon_kb.tell(~R | '==>' | S)\n",
    "\n",
    "afternoon_kb.tell(S | '==>' | T)\n",
    "\n",
    "\n",
    "afternoon_kb.ask_if_true(~P | '==>' | T)\n"
   ]
  },
  {
   "cell_type": "markdown",
   "metadata": {},
   "source": [
    "# Question 7 (Basic)  \n",
    "\n",
    "Encode the kindship domain described in section 8.3.2 of the textbook using FOL and FolKB implementation in logic.py and encode as facts the relationships between the members of the Simpsons family from the popular TV show:  \n",
    "\n",
    "https://en.wikipedia.org/wiki/Simpson_family\n",
    "\n",
    "\n",
    "Show how the following queries can be answered using this KB: \n",
    "\n",
    "* Who are the children of Homer ? \n",
    "* Who are the parents of Bart ? \n",
    "* Are Lisa and Homer siblings ? \n",
    "* Are Lisa and Bart siblings ? \n"
   ]
  },
  {
   "cell_type": "code",
   "execution_count": 2,
   "metadata": {},
   "outputs": [
    {
     "ename": "",
     "evalue": "",
     "output_type": "error",
     "traceback": [
      "\u001b[1;31mThe Kernel crashed while executing code in the the current cell or a previous cell. Please review the code in the cell(s) to identify a possible cause of the failure. Click <a href='https://aka.ms/vscodeJupyterKernelCrash'>here</a> for more info. View Jupyter <a href='command:jupyter.viewOutput'>log</a> for further details."
     ]
    }
   ],
   "source": [
    "# YOUR CODE GOES HERE \n",
    "\n",
    "from utils import *\n",
    "from logic import *\n",
    "\n",
    "kinship_KB = FolKB([expr('Mother(c, m) ==> Child(m, c)'), expr('Father(c, f) ==> Child(f, c)'),  expr('Mother(c, p) ==> Parent(c, p)'), expr('Father(c, p) ==> Parent(c, p)'), expr('Parent(c, p) ==> Child(p, c)'), expr('Child(p, c) ==> Parent(c, p)'),\n",
    "                    expr('Sibling(b, s) ==> Sibling(s, b)'),\n",
    "                    expr('Mother(Lisa, Marge)'), expr('Mother(Bart, Marge)'), expr('Father(Lisa, Homer)'), expr('Father(Bart, Homer)'), expr('Father(Maggie, Homer)'), expr('Mother(Maggie, Marge)'),\n",
    "                    expr(\"Sibling(Lisa, Bart)\"), expr(\"Sibling(Bart, Lisa)\")])\n",
    "\n",
    "\n",
    "#generates a list of the assignments that make the expression true, where 'element' is the \n",
    "#character used to represent the unknown parameter in the expression\n",
    "#example: generate_asks(kinship_KB, (expr('Parent(Lisa, x)')), x)\n",
    "def generate_asks(kb, exp, element):\n",
    "    true_assignments = list(kb.ask_generator(exp))\n",
    "    l = []\n",
    "    for answer in true_assignments:\n",
    "\n",
    "        l.append(answer[element])\n",
    "    return l\n",
    "\n",
    "\n",
    "\n",
    "\n",
    "print(generate_asks(kinship_KB, (expr('Child(Homer, x)')), x))\n",
    "print(generate_asks(kinship_KB, (expr('Parent(Bart, x)')), x))\n",
    "#print(generate_asks(kinship_KB, (expr('Sibling(Lisa, x)')), x))\n",
    "#kinship_KB.ask(expr('Sibling(Lisa, x)'))\n"
   ]
  },
  {
   "cell_type": "markdown",
   "metadata": {},
   "source": [
    "# QUESTION 8 (EXPECTED)\n",
    "\n",
    "In this question we explore Prolog which is a programming language based on logic. We won't go into details but just wanted to give you a flavor of the syntax and how it connects to what we have learned. For this question you \n",
    "will NOT be using the notebook so your answer should just be the source code. We will use http://tau-prolog.org/ which is a Prolog implementation that can run in a browser. When you access the webpage there is a text window labeled try it for entering your knowledge base and under it t\n",
    "here is a text entry field for entering your query. \n",
    "\n",
    "For example type in the Try it window and press enter: \n",
    "\n",
    "```Prolog\n",
    "likes(sam, salad).\n",
    "likes(dean, pie).\n",
    "likes(sam, apples).\n",
    "likes(dean, whiskey).\n",
    "```\n",
    "\n",
    "Then enter the query: \n",
    "```Prolog \n",
    "likes(sam,X).\n",
    "```\n",
    "When you press Enter once you will get X=apples. and X=salad. Note the periods at the end of each statement. \n",
    "\n",
    "Encode the kinship domain from the previous question in Prolog and answer the queries from the previous question. Notice that in Prolog the constants start with lower case letters and the variables start with upper case letters.\n",
    "\n",
    "Provide your code for the KB and queries using markup. See the syntax for Prolog of this cell by double clicking for editing. \n",
    "\n"
   ]
  },
  {
   "cell_type": "code",
   "execution_count": 12,
   "metadata": {},
   "outputs": [],
   "source": [
    "# YOUR CODE GOES HERE (USING MARKDOWN)"
   ]
  },
  {
   "cell_type": "markdown",
   "metadata": {},
   "source": [
    "# QUESTION 9 (EXPECTED) \n",
    "\n",
    "\n",
    "## Legoworld \n",
    "\n",
    "\n",
    "In this question we explore the use of FOL to encode knowledge about the objects \n",
    "and arrangement of a simple world created by different lego pieces. Our world \n",
    "will consist of making simple structure by placing lego pieces on top of each other. \n",
    "Each lego piece will be identified by a unique identifier (the letters in the figure below). \n",
    "\n",
    "Let's look at a specific example where each piece is labeled by a letter: \n",
    "\n",
    "<img src=\"lego_letters.png\" width=\"60%\"/>\n",
    "\n",
    "This corresponds to the following picture: \n",
    "\n",
    "<img src=\"lego2.png\" width=\"60%\"/>\n",
    "\n",
    "\n",
    "\n",
    "We can use the following predicates to model the world: \n",
    "* OnPlate(p): p is attached to the bottom plate \n",
    "* On(p1,p2): piece p1 is placed on top of piece p2 \n",
    "* AtLeft(p1,p2): piece p1 and piece p2 are placed on the plate, and piece p1 is direct at the left of p2 \n",
    "* Color(p,c): The color of piece p is c (Red, Grey, Brown, White, Yellow, Blue) \n",
    "* Type(p,t): The type of piece p is t (Brick, Plate, Tile) \n",
    "\n",
    "<img src=\"lego3.png\" width=\"20%\"/>\n",
    "\n",
    "\n",
    "Each pieces will be identified by the letters appearing in the picture. The thicker brick with studs will have type  Brick, the thinner brick with studs is of type Plate, and the one that is flat on the top is of type Tile. \n",
    "\n",
    "\n",
    "Use the FO KB implementation in logic.py to: \n",
    "\n",
    "1. Write a database of facts which models the world in the picture. For example you can use clauses.append(expr('TypeOf(A,Brick)')) to state that lego piece A is a Brick. \n",
    "\n",
    "2. Based exclusively on using these predicates (OnPlate, On, AtLeft), define the following predicates:\n",
    "    * Base(b1, b2): b2 is the base of the tower containing b1.\n",
    "    * Base_at_right(b1, b2): b1 and b2 are on the plate, and b2 is at the right (but perhaps not directly) of b1.\n",
    "    * Object_at_right(b1, b2): b1 is in a pile which is at the right (but perhaps not directly) of b2.\n",
    "    \n",
    "    \n",
    "The above predicates must work for any world defined using the facts specified by on_plate, on, \n",
    "at_left not just the specific example encoded above. In other words these predicates should be defined \n",
    "in terms of the existing predicates and variables. As an example here is the definition of Base. \n",
    "\n",
    "    * clauses.append(expr('OnPlate(x) ==> Base(x,x)'))\n",
    "    * clauses.append(expr('On(x,z) & Base (z,y) ==> Base(x,y)'))\n",
    "    \n",
    "This is a recursive definition it is a good idea to see how it works by doing substitutions by hand. \n",
    "\n",
    "\n",
    "3. Using the KB you created answer the following queries: \n",
    "    * Is piece B on top of piece C? \n",
    "    * What is the type and color of the piece on top of C? \n",
    "    * What is the type of the base of H? \n",
    "    * What are the bricks that are right of C? \n",
    "    * What are all the bricks that are on top of i ? \n",
    "\n",
    "\n",
    "\n",
    "\n"
   ]
  },
  {
   "cell_type": "markdown",
   "metadata": {},
   "source": [
    "# QUESTION 10 (ADVANCED) \n",
    "\n",
    "\n",
    "This question is more advanced and open ended. I provide two options. You only need to implement one \n",
    "of the two options to get full credit for this question. You are welcome to implement both but \n",
    "you will still get 1 point. \n",
    "\n",
    "## Option 1 \n",
    "\n",
    "Extend the Legoworld knowledge base with a predicate to determine if a brick is part of an unstable \n",
    "tower. Any brick placed on top of a tile results in an unstable tower. For example the brown plate \n",
    "and grey brick in the middle are unstable but the red brick under the tile in the middle is stable. \n",
    "This is a trickier predicate to define so show a few cases to ensure that it works as expected. \n",
    "\n",
    "<img src=\"lego1.png\" width=\"40%\"/>\n",
    "\n",
    "Provide a simple natural language processing interface to the LegoWorld that takes input from \n",
    "the user and returns the results in more natural lanuage. For example you could have the following \n",
    "dialog: \n",
    "\n",
    "* User: What color is brick B ? \n",
    "* Computer: Brick B is Red. \n",
    "* User: Is there a brick that is on top of a tile? \n",
    "* Computer: Yes, brick D is on top of a tile. \n",
    "etc \n",
    "\n",
    "You will basically write a simple translation layer from simplified English to FOL tell and ask requests and back to simplified English. \n",
    "\n",
    "\n",
    "This question is inspired by the classic natural understanding work using logic: https://en.wikipedia.org/wiki/SHRDLU\n",
    "\n",
    "\n",
    "\n",
    "## Option 2 \n",
    "\n",
    "\n",
    "This question explores the automatic constructions of a first-order logic knowledge base from a web resource and is more open ended than the other ones. The website https://www.songfacts.com/ contains a large variety of facts about music. Check the https://www.songfacts.com/categories link for some categories. Using selenium Python bindings https://selenium-python.readthedocs.io/ access the webpage and scrape at least three categories. Your code should scrape the information from the pages and convert it into relationships and facts in first-order logic using the syntax of expressions in logic.ipynb. Once you build your knowledge-base then write 4 non-trivial queries that show-case the expressiveness of FOL. These queries should not be possible to be answered easily using the web interface i.e they should have some logical connectives, more than one possible answer etc. The translation of the song facts from the web page to FOL should NOT be done by hand but using the web scraping tool you develop. You can use multiple cells in your answer."
   ]
  },
  {
   "cell_type": "code",
   "execution_count": null,
   "metadata": {},
   "outputs": [],
   "source": []
  },
  {
   "cell_type": "code",
   "execution_count": null,
   "metadata": {},
   "outputs": [],
   "source": []
  },
  {
   "cell_type": "code",
   "execution_count": null,
   "metadata": {},
   "outputs": [],
   "source": []
  },
  {
   "cell_type": "code",
   "execution_count": null,
   "metadata": {},
   "outputs": [],
   "source": []
  }
 ],
 "metadata": {
  "kernelspec": {
   "display_name": "Python 3 (ipykernel)",
   "language": "python",
   "name": "python3"
  },
  "language_info": {
   "codemirror_mode": {
    "name": "ipython",
    "version": 3
   },
   "file_extension": ".py",
   "mimetype": "text/x-python",
   "name": "python",
   "nbconvert_exporter": "python",
   "pygments_lexer": "ipython3",
   "version": "3.10.11"
  }
 },
 "nbformat": 4,
 "nbformat_minor": 4
}
